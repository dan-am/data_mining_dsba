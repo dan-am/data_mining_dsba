{
 "cells": [
  {
   "cell_type": "markdown",
   "metadata": {},
   "source": [
    "## Synthetischer Datensatz mit Ollama"
   ]
  },
  {
   "cell_type": "code",
   "execution_count": null,
   "metadata": {},
   "outputs": [
    {
     "name": "stderr",
     "output_type": "stream",
     "text": [
      "Generiere Daten:   0%|          | 0/20 [00:00<?, ?Batch/s]"
     ]
    }
   ],
   "source": [
    "import ollama\n",
    "import pandas as pd\n",
    "from io import StringIO\n",
    "import concurrent.futures\n",
    "from tqdm import tqdm  # Fortschrittsanzeige\n",
    "\n",
    "def generate_batch(num_rows: int = 50, model: str = \"mistral\"):\n",
    "    \"\"\"Generiert einen Batch synthetischer Blog-Daten.\"\"\"\n",
    "    prompt = f\"\"\"\n",
    "    Erstelle eine **CSV-Datei mit genau {num_rows} Blogeinträgen**.\n",
    "\n",
    "    ❗ **WICHTIG:**\n",
    "    - **KEIN Code, KEINE Erklärungen**, nur die reinen CSV-Daten.\n",
    "    - **Verwende `|` als Trennzeichen**.\n",
    "    - **KEINE leeren Werte** – jede Zelle muss befüllt sein.\n",
    "\n",
    "    **Spaltenformat:**\n",
    "    - ID: Eindeutige Nummer (1 bis {num_rows})\n",
    "    - Titel: Ein realistischer Blog-Titel, passend zur Kategorie.\n",
    "    - Inhalt: **Mindestens 20 Wörter**, idealerweise 50-100 Wörter.\n",
    "    - Autor: Fiktiver Vor- und Nachname.\n",
    "    - Kategorie: Eine aus (Technologie, Wirtschaft, Sport, Gesundheit, Energie, Politik, Kryptos, Wissenschaft, Kultur, Ernährung).\n",
    "    - Sentiment: Eine aus (positiv, neutral, negativ).\n",
    "    - Wortanzahl: Ganze Zahl zwischen 50 und 100.\n",
    "    - Datum: Zufällig zwischen 2023-01-01 und 2024-12-31 (Format: YYYY-MM-DD).\n",
    "    - Uhrzeit: Zufällig zwischen 00:00 und 23:59 (Format: HH:MM).\n",
    "    - Quelle: Eine aus (TechNews, FinanceDaily, SportExpress, CryptoTimes, HealthWeekly, EnergyReview, WorldPolitics, ScienceToday).\n",
    "    - Shares: Ganze Zahl zwischen 0 und 5000.\n",
    "\n",
    "    **Format-Beispiel (erste Zeile der CSV):**\n",
    "    ```\n",
    "    ID|Titel|Inhalt|Autor|Kategorie|Sentiment|Wortanzahl|Datum|Uhrzeit|Quelle|Shares\n",
    "    1|Bitcoin steigt auf Rekordhoch|Experten analysieren den jüngsten Anstieg des Bitcoin-Kurses und erklären, welche Faktoren den Preis beeinflussen könnten.|Max Schmidt|Kryptowährungen|positiv|450|2024-02-15|14:23|CryptoTimes|3200\n",
    "    ```\n",
    "\n",
    "    🔹 **Generiere jetzt die vollständige CSV mit {num_rows} Zeilen.**\n",
    "    \"\"\"\n",
    "\n",
    "    response = ollama.chat(model=model, messages=[{'role': 'user', 'content': prompt}])\n",
    "    csv_data = response['message']['content']\n",
    "\n",
    "    # 🛠 Falls Ollama Codeblöcke (` ``` `) generiert, diese entfernen\n",
    "    csv_data = csv_data.strip().replace(\"```csv\", \"\").replace(\"```\", \"\")\n",
    "\n",
    "    try:\n",
    "        df = pd.read_csv(StringIO(csv_data), sep=\"|\", skipinitialspace=True)\n",
    "        return df\n",
    "    except Exception as e:\n",
    "        print(f\"⚠ Fehler beim Parsen der CSV: {e}\")\n",
    "        return pd.DataFrame()  # Falls ein Fehler auftritt, wird ein leerer DataFrame zurückgegeben\n",
    "# 📌 Funktion zur parallelen Generierung eines großen Datensatzes\n",
    "\n",
    "def generate_large_dataset_parallel(total_rows: int = 1000, batch_size: int = 50):\n",
    "    \"\"\"\n",
    "    Parallele Generierung großer Mengen synthetischer Daten mit Fortschrittsanzeige.\n",
    "\n",
    "    - `total_rows`: Gesamtzahl der zu generierenden Datensätze\n",
    "    - `batch_size`: Anzahl der Datensätze pro Anfrage\n",
    "    - Nutzt Threading für parallele API-Anfragen\n",
    "    \"\"\"\n",
    "\n",
    "    # 📌 Berechne die Anzahl der Batches\n",
    "    num_batches = total_rows // batch_size\n",
    "\n",
    "    # 📌 Leere Liste zum Speichern der einzelnen Batches\n",
    "    all_data = []\n",
    "\n",
    "    # 📌 Thread-Pool zur parallelen Anfrageverarbeitung\n",
    "    with concurrent.futures.ThreadPoolExecutor(max_workers=5) as executor:\n",
    "        # 🚀 Starte `num_batches` viele parallele Batch-Anfragen\n",
    "        futures = [executor.submit(generate_batch, batch_size) for _ in range(num_batches)]\n",
    "\n",
    "        # 📊 Fortschrittsanzeige mit tqdm\n",
    "        for i, future in enumerate(tqdm(concurrent.futures.as_completed(futures), total=num_batches, desc=\"Generiere Daten\", unit=\"Batch\")):\n",
    "            # 🛠 Ergebnis der API-Anfrage abrufen\n",
    "            batch_df = future.result()\n",
    "\n",
    "            # 📌 Batch-Daten zur Gesamtliste hinzufügen\n",
    "            all_data.append(batch_df)\n",
    "\n",
    "    # 📌 Alle Batches zu einem DataFrame kombinieren\n",
    "    final_df = pd.concat(all_data, ignore_index=True)\n",
    "\n",
    "    # ✅ Den vollständigen synthetischen Datensatz zurückgeben\n",
    "    return final_df\n",
    "\n",
    "# 📌 Hauptprogramm: Starte die Daten-Erzeugung\n",
    "if __name__ == \"__main__\":\n",
    "    # 📌 Starte die Generierung mit parallelen Anfragen\n",
    "    df = generate_large_dataset_parallel(total_rows=1000, batch_size=50)\n",
    "\n",
    "    # 📌 Speichere die generierten Daten in einer CSV-Datei\n",
    "    df.to_csv(\"synthetic_blog_dataset.csv\", sep=\"|\", encoding=\"utf-8-sig\", index=False)\n",
    "\n",
    "    # ✅ Bestätigungsausgabe, dass die Generierung erfolgreich war\n",
    "    print(\"✅ Synthetischer Datensatz erfolgreich generiert!\")\n"
   ]
  },
  {
   "cell_type": "markdown",
   "metadata": {},
   "source": [
    "### Tippfehler"
   ]
  },
  {
   "cell_type": "code",
   "execution_count": null,
   "metadata": {},
   "outputs": [],
   "source": [
    "import random\n",
    "\n",
    "def add_typo(text):\n",
    "    if isinstance(text, str):\n",
    "        text = text.replace(\"e\", \"3\").replace(\"o\", \"0\")\n",
    "        if random.random() < 0.2:  # 20% Wahrscheinlichkeit für einen Extra-Tippfehler\n",
    "            text = text[:-1] + random.choice([\"!\", \"?\", \"#\"])\n",
    "    return text\n",
    "\n",
    "df[\"Titel\"] = df[\"Titel\"].apply(add_typo)\n"
   ]
  },
  {
   "cell_type": "markdown",
   "metadata": {},
   "source": [
    "### Synonyme"
   ]
  },
  {
   "cell_type": "code",
   "execution_count": null,
   "metadata": {},
   "outputs": [],
   "source": [
    "import spacy\n",
    "\n",
    "nlp = spacy.load(\"en_core_web_sm\")  # Englisches Modell laden\n",
    "\n",
    "def replace_synonyms(text):\n",
    "    if not isinstance(text, str):\n",
    "        return text\n",
    "    doc = nlp(text)\n",
    "    new_text = []\n",
    "    for token in doc:\n",
    "        if token.pos_ in [\"NOUN\", \"ADJ\", \"VERB\"] and random.random() < 0.3:  # 30% Chance auf Synonym\n",
    "            new_text.append(random.choice([\"Innovation\", \"Revolution\", \"Markt\", \"Trend\"]))  # Dummy-Synonyme\n",
    "        else:\n",
    "            new_text.append(token.text)\n",
    "    return \" \".join(new_text)\n",
    "\n",
    "df[\"Titel\"] = df[\"Titel\"].apply(replace_synonyms)\n"
   ]
  },
  {
   "cell_type": "code",
   "execution_count": null,
   "metadata": {},
   "outputs": [],
   "source": [
    "df[\"Wortanzahl\"] = pd.to_numeric(df[\"Wortanzahl\"], errors=\"coerce\")\n",
    "df[\"Shares\"] = pd.to_numeric(df[\"Shares\"], errors=\"coerce\")\n"
   ]
  },
  {
   "cell_type": "code",
   "execution_count": null,
   "metadata": {},
   "outputs": [
    {
     "data": {
      "text/plain": [
       "ID             3\n",
       "Titel         24\n",
       "Inhalt        24\n",
       "Autor         24\n",
       "Kategorie     24\n",
       "Sentiment     24\n",
       "Wortanzahl    36\n",
       "Datum         24\n",
       "Uhrzeit       24\n",
       "Quelle        24\n",
       "Shares        36\n",
       "dtype: int64"
      ]
     },
     "execution_count": 14,
     "metadata": {},
     "output_type": "execute_result"
    }
   ],
   "source": [
    "df.isna().sum()"
   ]
  },
  {
   "cell_type": "code",
   "execution_count": null,
   "metadata": {},
   "outputs": [],
   "source": [
    "df.dropna(inplace=True)  # Entfernt unvollständige Zeilen\n"
   ]
  },
  {
   "cell_type": "markdown",
   "metadata": {},
   "source": [
    "## EDA"
   ]
  },
  {
   "cell_type": "code",
   "execution_count": null,
   "metadata": {},
   "outputs": [
    {
     "name": "stdout",
     "output_type": "stream",
     "text": [
      "<class 'pandas.core.frame.DataFrame'>\n",
      "Index: 1059 entries, 0 to 1079\n",
      "Data columns (total 11 columns):\n",
      " #   Column      Non-Null Count  Dtype  \n",
      "---  ------      --------------  -----  \n",
      " 0   ID          1059 non-null   object \n",
      " 1   Titel       1059 non-null   object \n",
      " 2   Inhalt      1059 non-null   object \n",
      " 3   Autor       1059 non-null   object \n",
      " 4   Kategorie   1059 non-null   object \n",
      " 5   Sentiment   1059 non-null   object \n",
      " 6   Wortanzahl  1059 non-null   float64\n",
      " 7   Datum       1059 non-null   object \n",
      " 8   Uhrzeit     1059 non-null   object \n",
      " 9   Quelle      1059 non-null   object \n",
      " 10  Shares      1059 non-null   float64\n",
      "dtypes: float64(2), object(9)\n",
      "memory usage: 99.3+ KB\n",
      "None\n",
      "  ID                                              Titel  \\\n",
      "0  1  N3u3 Entwicklung3n in d3r T3chn0l0gi3branch3 v...   \n",
      "1  2    Wirtschaftskris3n i m Jahr 2025 : Ein3 Pr0gn0s3   \n",
      "2  3  D3r n3u3 W3 Markt in d3r Krypt0sphär3 : Eth3r3...   \n",
      "3  4  Di3 Wirtschaftskris3 v0n 2026 : Ein3 R3ttungsi...   \n",
      "4  5             Di3 n3u3n Tr3nds i m Sp0rtb3r3ich 2026   \n",
      "\n",
      "                                              Inhalt           Autor  \\\n",
      "0        Die digitalen Zukunftsvisionäre präzisen...     Amy Johnson   \n",
      "1  Die Wirtschaftswelten erforschen die wahrschei...        John Doe   \n",
      "2  Experten diskutieren die Möglichkeiten einer E...  Max Mustermann   \n",
      "3  Die Wirtschaftswelten erforschen die Notwendig...   Emily Johnson   \n",
      "4  Sportjournalisten diskutieren die neuesten Tre...       James Doe   \n",
      "\n",
      "         Kategorie Sentiment  Wortanzahl       Datum Uhrzeit        Quelle  \\\n",
      "0      Technologie   positiv       650.0  2024-03-07   11:32      TechNews   \n",
      "1       Wirtschaft   neutral       370.0  2024-01-19   16:47  FinanceDaily   \n",
      "2  Kryptowährungen   neutral       789.0  2024-03-01   09:58   CryptoTimes   \n",
      "3       Wirtschaft   negativ       530.0  2024-12-28   20:11  FinanceDaily   \n",
      "4            Sport   positiv       890.0  2024-01-30   12:05  SportExpress   \n",
      "\n",
      "   Shares  \n",
      "0  2800.0  \n",
      "1   450.0  \n",
      "2  2600.0  \n",
      "3  4700.0  \n",
      "4  1700.0  \n"
     ]
    }
   ],
   "source": [
    "print(df.info())\n",
    "print(df.head())"
   ]
  },
  {
   "cell_type": "code",
   "execution_count": null,
   "metadata": {},
   "outputs": [
    {
     "name": "stdout",
     "output_type": "stream",
     "text": [
      "Kategorie\n",
      "Wirtschaft         204\n",
      "Kryptowährungen    165\n",
      "Technologie        109\n",
      "Gesundheit         104\n",
      "Politik            103\n",
      "Wissenschaft        99\n",
      "Ernährung           92\n",
      "Sport               85\n",
      "Energie             85\n",
      "Kryptos             11\n",
      "Tierwelt             1\n",
      "Kultur               1\n",
      "Name: count, dtype: int64\n",
      "Sentiment\n",
      "positiv    755\n",
      "negativ    168\n",
      "neutral    136\n",
      "Name: count, dtype: int64\n",
      "Kategorie\n",
      "Wirtschaft         0.192635\n",
      "Kryptowährungen    0.155807\n",
      "Technologie        0.102927\n",
      "Gesundheit         0.098206\n",
      "Politik            0.097262\n",
      "Wissenschaft       0.093484\n",
      "Ernährung          0.086874\n",
      "Sport              0.080264\n",
      "Energie            0.080264\n",
      "Kryptos            0.010387\n",
      "Tierwelt           0.000944\n",
      "Kultur             0.000944\n",
      "Name: proportion, dtype: float64\n"
     ]
    }
   ],
   "source": [
    "# Verteilung der Kategorien\n",
    "print(df[\"Kategorie\"].value_counts())\n",
    "\n",
    "# Sentiment-Verteilung\n",
    "print(df[\"Sentiment\"].value_counts())\n",
    "\n",
    "print(df[\"Kategorie\"].value_counts(normalize=True))  # Zeigt die Verteilung"
   ]
  },
  {
   "cell_type": "code",
   "execution_count": null,
   "metadata": {},
   "outputs": [
    {
     "data": {
      "text/plain": [
       "array(['Die digitalen Zukunftsvisionäre präzisen...',\n",
       "       'Die Wirtschaftswelten erforschen die wahrscheinlichen Auswirkungen...',\n",
       "       'Experten diskutieren die Möglichkeiten einer Ethereum-Dominanz...',\n",
       "       'Die Wirtschaftswelten erforschen die Notwendigkeit und Wirksamkeit...',\n",
       "       'Sportjournalisten diskutieren die neuesten Trends und Entwicklungen...',\n",
       "       'Experten diskutieren die Möglichkeiten und Potenziale...',\n",
       "       'Fachleute diskutieren die notwendigen Schritte...',\n",
       "       'Politikwissenschaftler diskutieren die möglichen Auswirkungen...',\n",
       "       'Experten diskutieren die Möglichkeiten und Grenzen...',\n",
       "       'Wissenschaftler diskutieren die Möglichkeiten und Grenzen...',\n",
       "       'Fachleute diskutieren die neuesten Trends und Entwicklungen...',\n",
       "       'Fachleute diskutieren die Möglichkeiten und Grenzen...',\n",
       "       'Fachleute diskutieren die wirtschaftlichen Konsequenzen...',\n",
       "       'Experten diskutieren die Möglichkeiten...',\n",
       "       'Learn the fundamental rules of basketball...',\n",
       "       'Here are the top 10 smartphones of 2023...',\n",
       "       'Learn about the new energy storage technology...',\n",
       "       'Discover why blockchain technology is future-oriented...',\n",
       "       'Learn about the meaning of climate change and how to influence it...',\n",
       "       'Discover the latest advancements in quantum computing...',\n",
       "       \"Here's how to enable a healthy diet...\",\n",
       "       'Discover the essential financial rules for young adults...',\n",
       "       'Here are the 5 biggest political trends of 2023...',\n",
       "       'Discover the latest research results on climate crisis...',\n",
       "       'Here are the top 10 fitness and health apps of 2023...',\n",
       "       'Discover the latest advancements in biotechnology...',\n",
       "       'Here are the top 10 smartphones of 2024...',\n",
       "       'Here are the top 10 fitness and health apps of 2024...',\n",
       "       'Here are the top 10 smartphones of 2025...',\n",
       "       'Here are the top 10 fitness and health apps of 2025...',\n",
       "       'Here are the top 10 smartphones of 2026...',\n",
       "       'Here are the top 10 fitness and health apps of 2026...',\n",
       "       'Here are the top 10 smartphones of 2027...',\n",
       "       'Here are the top 10 fitness and health apps of 2027...',\n",
       "       'Here are the top 10 smartphones of 2028...',\n",
       "       'Here are the top 10 fitness and health apps of 2028...',\n",
       "       'Here are the top 10 smartphones of 2029...',\n",
       "       'Here are the top 10 fitness and health apps of 2029...',\n",
       "       'Here are the top 10 smartphones of 2030...',\n",
       "       'Here are the top 10 fitness and health apps of 2030...',\n",
       "       'Die Erschließung neuer Energieressourcen...',\n",
       "       'Experten diskutieren Lösungen zur Krise...',\n",
       "       'Die Zukunft des Sports liegt in neuen...',\n",
       "       'Analysten untersuchen den Zusammenbruch von...',\n",
       "       'Ein Blick auf die neusten Erkenntnisse in der...',\n",
       "       'Ein Überblick über die wichtigsten Entwicklungen...',\n",
       "       'Analysten diskutieren den Einfluss von...',\n",
       "       'Experten analysieren die Trends für 2025...',\n",
       "       'Die letzten Erfindungen und Innovationen...',\n",
       "       'Ein Blick auf die neusten Erkenntnisse und...',\n",
       "       'Ein Überblick über die wichtigsten Wirtschaftsberichte...',\n",
       "       'Ein Blick auf die wichtigsten Beispiele...',\n",
       "       'Die letzten Fortschritte in der KI sind...',\n",
       "       'Experten diskutieren den Einbruch...',\n",
       "       'Ein Blick auf das Turnier im Fußball...',\n",
       "       'Einfache Empfehlungen für eine gesunde Ernährung...',\n",
       "       'Eine neue Studie zeigt einen Anstieg...',\n",
       "       'Ein Diskussion über die Rolle der EU...',\n",
       "       'Wie kann die Klimakrise unseren Gesundheitszustand beeinflussen?',\n",
       "       'Ein Blick auf die Entwicklung der Regulierung...',\n",
       "       'Wie kann die Energieerzeugung einen Beitrag zur Lösung leisten?',\n",
       "       'Ein Blick auf den kulturellen Einfluss der Klimakrise',\n",
       "       'Eine neueste Studie zeigt gute Ergebnisse...'], dtype=object)"
      ]
     },
     "execution_count": 18,
     "metadata": {},
     "output_type": "execute_result"
    }
   ],
   "source": [
    "df.Inhalt.unique()"
   ]
  },
  {
   "cell_type": "code",
   "execution_count": null,
   "metadata": {},
   "outputs": [
    {
     "data": {
      "image/png": "[encoded data removed]",
      "text/plain": [
       "<Figure size 640x480 with 1 Axes>"
      ]
     },
     "metadata": {},
     "output_type": "display_data"
    }
   ],
   "source": [
    "# Textlängen-Verteilung\n",
    "import matplotlib.pyplot as plt\n",
    "\n",
    "df[\"Textlänge\"] = df[\"Inhalt\"].apply(lambda x: len(str(x).split()))\n",
    "df[\"Textlänge\"].hist(bins=20, edgecolor=\"black\")\n",
    "plt.xlabel(\"Anzahl Wörter\")\n",
    "plt.ylabel(\"Anzahl Artikel\")\n",
    "plt.title(\"Verteilung der Textlängen\")\n",
    "plt.show()\n"
   ]
  },
  {
   "cell_type": "markdown",
   "metadata": {},
   "source": [
    "## Modelltraining"
   ]
  },
  {
   "cell_type": "markdown",
   "metadata": {},
   "source": [
    "### Testdate unnd Zielvariable"
   ]
  },
  {
   "cell_type": "code",
   "execution_count": null,
   "metadata": {},
   "outputs": [],
   "source": [
    "from sklearn.model_selection import train_test_split\n",
    "\n",
    "# Entferne Zeilen mit fehlendem Sentiment\n",
    "df = df.dropna(subset=[\"Sentiment\"])\n",
    "\n",
    "# Features (Texte) und Zielvariable (Sentiment) definieren\n",
    "X = df[\"Inhalt\"]\n",
    "y = df[\"Sentiment\"]\n",
    "\n",
    "# Datensatz aufteilen (80% Training, 20% Test)\n",
    "X_train, X_test, y_train, y_test = train_test_split(X, y, test_size=0.2, random_state=42)\n",
    "\n",
    "# Zielvariable aus Test-Set entfernen\n",
    "X_test_no_labels = X_test.copy()"
   ]
  },
  {
   "cell_type": "markdown",
   "metadata": {},
   "source": [
    "### Model trainieren"
   ]
  },
  {
   "cell_type": "code",
   "execution_count": null,
   "metadata": {},
   "outputs": [
    {
     "name": "stdout",
     "output_type": "stream",
     "text": [
      "✅ Modelltraining abgeschlossen!\n"
     ]
    }
   ],
   "source": [
    "from sklearn.feature_extraction.text import TfidfVectorizer\n",
    "from sklearn.linear_model import LogisticRegression\n",
    "from sklearn.pipeline import Pipeline\n",
    "\n",
    "# Pipeline mit TF-IDF-Vektorisierung + Logistische Regression\n",
    "model = Pipeline([\n",
    "    (\"tfidf\", TfidfVectorizer()),  \n",
    "    (\"clf\", LogisticRegression(max_iter=200))  \n",
    "])\n",
    "\n",
    "# Modell trainieren\n",
    "model.fit(X_train, y_train)\n",
    "\n",
    "print(\"✅ Modelltraining abgeschlossen!\")\n"
   ]
  },
  {
   "cell_type": "markdown",
   "metadata": {},
   "source": [
    "### Testdaten auf Modell anwenden"
   ]
  },
  {
   "cell_type": "code",
   "execution_count": null,
   "metadata": {},
   "outputs": [
    {
     "name": "stdout",
     "output_type": "stream",
     "text": [
      "                                                Inhalt  \\\n",
      "576  Sportjournalisten diskutieren die neuesten Tre...   \n",
      "312  Sportjournalisten diskutieren die neuesten Tre...   \n",
      "70   Sportjournalisten diskutieren die neuesten Tre...   \n",
      "682  Fachleute diskutieren die Möglichkeiten und Gr...   \n",
      "896  Experten diskutieren die Möglichkeiten und Gre...   \n",
      "\n",
      "    Vorhergesagtes Sentiment  \n",
      "576                  positiv  \n",
      "312                  positiv  \n",
      "70                   positiv  \n",
      "682                  positiv  \n",
      "896                  positiv  \n"
     ]
    }
   ],
   "source": [
    "# Sentiment für Test-Daten ohne Labels vorhersagen\n",
    "predictions = model.predict(X_test_no_labels)\n",
    "\n",
    "# Test-Daten mit vorhergesagtem Sentiment speichern\n",
    "df_test_predictions = pd.DataFrame({\"Inhalt\": X_test_no_labels, \"Vorhergesagtes Sentiment\": predictions})\n",
    "\n",
    "print(df_test_predictions.head())  # Beispielhafte Ausgabe\n"
   ]
  },
  {
   "cell_type": "markdown",
   "metadata": {},
   "source": [
    "### Model evaluieren"
   ]
  },
  {
   "cell_type": "code",
   "execution_count": null,
   "metadata": {},
   "outputs": [
    {
     "name": "stdout",
     "output_type": "stream",
     "text": [
      "              precision    recall  f1-score   support\n",
      "\n",
      "     negativ       1.00      0.95      0.97        40\n",
      "     neutral       0.95      0.83      0.89        24\n",
      "     positiv       0.96      0.99      0.98       148\n",
      "\n",
      "    accuracy                           0.97       212\n",
      "   macro avg       0.97      0.93      0.95       212\n",
      "weighted avg       0.97      0.97      0.97       212\n",
      "\n"
     ]
    }
   ],
   "source": [
    "from sklearn.metrics import classification_report\n",
    "\n",
    "# Modell gegen echte Labels testen\n",
    "y_pred = model.predict(X_test)\n",
    "print(classification_report(y_test, y_pred))\n"
   ]
  }
 ],
 "metadata": {
  "kernelspec": {
   "display_name": "dennis",
   "language": "python",
   "name": "python3"
  },
  "language_info": {
   "codemirror_mode": {
    "name": "ipython",
    "version": 3
   },
   "file_extension": ".py",
   "mimetype": "text/x-python",
   "name": "python",
   "nbconvert_exporter": "python",
   "pygments_lexer": "ipython3",
   "version": "3.10.13"
  }
 },
 "nbformat": 4,
 "nbformat_minor": 2
}
